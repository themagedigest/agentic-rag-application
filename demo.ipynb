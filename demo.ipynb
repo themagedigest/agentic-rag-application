{
 "cells": [
  {
   "cell_type": "code",
   "execution_count": null,
   "metadata": {},
   "outputs": [],
   "source": [
    "from langchain_core.messages import HumanMessage, AIMessage\n",
    "from langgraph.graph import END, StateGraph, MessagesState\n",
    "from IPython.display import Image, display\n",
    "from langchain_openai import ChatOpenAI, OpenAIEmbeddings\n",
    "from pinecone import Pinecone\n",
    "import os, getpass"
   ]
  },
  {
   "cell_type": "code",
   "execution_count": 3,
   "metadata": {},
   "outputs": [],
   "source": [
    "def _set_env(var: str):\n",
    "    if not os.environ.get(var):\n",
    "        os.environ[var] = getpass.getpass(f\"{var}: \")\n",
    "\n",
    "_set_env(\"OPENAI_API_KEY\")\n",
    "_set_env(\"PINECONE_API_KEY\")"
   ]
  },
  {
   "cell_type": "code",
   "execution_count": 4,
   "metadata": {},
   "outputs": [
    {
     "data": {
      "image/png": "[encoded data removed]",
      "text/plain": [
       "<IPython.core.display.Image object>"
      ]
     },
     "metadata": {},
     "output_type": "display_data"
    }
   ],
   "source": [
    "model = ChatOpenAI(temperature=0, model_name=\"gpt-4o-mini\")\n",
    "\n",
    "# get the search results from the vector db\n",
    "def get_results_from_vector_db(query: str, k: int = 1):\n",
    "    embeddings = OpenAIEmbeddings(api_key=os.environ['OPENAI_API_KEY'])\n",
    "    index_name = \"wiki-index\"\n",
    "    query_vector = embeddings.embed_query(query)\n",
    "    pc = Pinecone(api_key=os.environ['PINECONE_API_KEY'])\n",
    "    index = pc.Index(index_name)\n",
    "    response = index.query(vector=query_vector, top_k=k, include_metadata=True, include_values=True)\n",
    "    return response\n",
    "\n",
    "# rag agent\n",
    "def rag_agent(state: MessagesState):\n",
    "    # get the user message as the query\n",
    "    user_query = state['messages'][-1].content\n",
    "\n",
    "    # fetch the result\n",
    "    search_results = get_results_from_vector_db(query=user_query, k=1)\n",
    "\n",
    "    ## the retriever ##\n",
    "    # Process the retrieved results\n",
    "    if not search_results.get(\"matches\"):  # Handle empty results\n",
    "        context = \"No relevant documents were retrieved.\"\n",
    "    else:\n",
    "        # Extract the top results from the Pinecone response\n",
    "        retrieved_docs = []\n",
    "        for doc in search_results[\"matches\"]:\n",
    "            # Each document has a similarity score by default\n",
    "            doc_text = f\"Type: ID: {doc['id']}, Score: {doc['score']:.4f}, Content: {doc['metadata']['text']}\"\n",
    "            retrieved_docs.append(doc_text)\n",
    "        \n",
    "        context = \"\\n\".join(retrieved_docs)\n",
    "\n",
    "    # defining the prompt\n",
    "    prompt = f\"\"\"\n",
    "    Answer strictly based on the provided documents. If no relevant documents are retrieved,\n",
    "    respond with: \"I do not have enough information to answer this question.\":\n",
    "    Context: {context}\n",
    "\n",
    "    Question: {user_query}\n",
    "    Answer:\n",
    "    \"\"\"\n",
    "\n",
    "    # generating the response using the LLM\n",
    "    response = model(prompt)\n",
    "\n",
    "    # update the state using the response\n",
    "    state.update({\"messages\":AIMessage(content=response.content)})\n",
    "    return state\n",
    "\n",
    "workflow = StateGraph(MessagesState)\n",
    "workflow.add_node(\"rag_agent\", rag_agent)\n",
    "workflow.set_entry_point(\"rag_agent\")\n",
    "workflow.add_edge(\"rag_agent\", END)\n",
    "\n",
    "graph = workflow.compile()\n",
    "\n",
    "display(Image(graph.get_graph().draw_mermaid_png()))\n"
   ]
  },
  {
   "cell_type": "code",
   "execution_count": null,
   "metadata": {},
   "outputs": [],
   "source": [
    "# make it in a human message\n",
    "messages = [HumanMessage(content=f\"what was 2008 amazon.com annual visitors and did it grew after that and by how much\")]\n",
    "# messages = [HumanMessage(content=f\"is jeff bezos the founder of amazon\")]\n",
    "# messages = [HumanMessage(content=f\"where amazon was started first ? and how many team members were there\")]\n",
    "# messages = [HumanMessage(content=f\"what was the first business of amazon.com\")]\n",
    "\n",
    "# Input\n",
    "initial_input = {\"messages\": messages}\n",
    "\n",
    "for event in graph.stream(initial_input, stream_mode=\"values\"):\n",
    "    event['messages'][-1].pretty_print()"
   ]
  }
 ],
 "metadata": {
  "kernelspec": {
   "display_name": ".venv",
   "language": "python",
   "name": "python3"
  },
  "language_info": {
   "codemirror_mode": {
    "name": "ipython",
    "version": 3
   },
   "file_extension": ".py",
   "mimetype": "text/x-python",
   "name": "python",
   "nbconvert_exporter": "python",
   "pygments_lexer": "ipython3",
   "version": "3.12.2"
  }
 },
 "nbformat": 4,
 "nbformat_minor": 2
}
